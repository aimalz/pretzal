{
 "cells": [
  {
   "cell_type": "code",
   "execution_count": 43,
   "metadata": {
    "collapsed": true
   },
   "outputs": [],
   "source": [
    "import pyfits\n",
    "import numpy as np\n",
    "import matplotlib.pyplot as plt\n",
    "%matplotlib inline\n",
    "import sklearn as skl\n",
    "import sklearn.neighbors.kde as kde"
   ]
  },
  {
   "cell_type": "code",
   "execution_count": 21,
   "metadata": {
    "collapsed": true
   },
   "outputs": [],
   "source": [
    "tru_hdulist = pyfits.open('Buzzard_v1.1_truth.147.fit')"
   ]
  },
  {
   "cell_type": "code",
   "execution_count": 22,
   "metadata": {
    "collapsed": false
   },
   "outputs": [
    {
     "name": "stdout",
     "output_type": "stream",
     "text": [
      "Filename: Buzzard_v1.1_truth.147.fit\n",
      "No.    Name         Type      Cards   Dimensions   Format\n",
      "0    PRIMARY     PrimaryHDU       4   ()              \n",
      "1                BinTableHDU    113   5022692R x 48C   [K, J, J, 5E, 5E, 5E, 5E, 5E, 5E, 5E, E, E, E, J, E, E, J, E, I, E, E, 2E, E, E, E, E, 5E, E, E, E, E, E, E, E, E, E, E, E, E, E, E, E, E, E, E, 2E, E, E]   \n"
     ]
    }
   ],
   "source": [
    "tru_hdulist.info()"
   ]
  },
  {
   "cell_type": "code",
   "execution_count": 23,
   "metadata": {
    "collapsed": false
   },
   "outputs": [
    {
     "data": {
      "text/plain": [
       "XTENSION= 'BINTABLE'           /Binary table written by MWRFITS v1.11           \n",
       "BITPIX  =                    8 /Required value                                  \n",
       "NAXIS   =                    2 /Required value                                  \n",
       "NAXIS1  =                  330 /Number of bytes per row                         \n",
       "NAXIS2  =              5022692 /Number of rows                                  \n",
       "PCOUNT  =                    0 /Normally 0 (no varying arrays)                  \n",
       "GCOUNT  =                    1 /Required value                                  \n",
       "TFIELDS =                   48 /Number of columns in table                      \n",
       "COMMENT                                                                         \n",
       "COMMENT  *** End of mandatory fields ***                                        \n",
       "COMMENT                                                                         \n",
       "COMMENT                                                                         \n",
       "COMMENT  *** Column names ***                                                   \n",
       "COMMENT                                                                         \n",
       "TTYPE1  = 'ID      '           /                                                \n",
       "TTYPE2  = 'INDEX   '           /                                                \n",
       "TTYPE3  = 'ECATID  '           /                                                \n",
       "TTYPE4  = 'COEFFS  '           /                                                \n",
       "TTYPE5  = 'TMAG    '           /                                                \n",
       "TTYPE6  = 'OMAG    '           /                                                \n",
       "TTYPE7  = 'FLUX    '           /                                                \n",
       "TTYPE8  = 'IVAR    '           /                                                \n",
       "TTYPE9  = 'OMAGERR '           /                                                \n",
       "TTYPE10 = 'AMAG    '           /                                                \n",
       "TTYPE11 = 'RA      '           /                                                \n",
       "TTYPE12 = 'DEC     '           /                                                \n",
       "TTYPE13 = 'Z       '           /                                                \n",
       "TTYPE14 = 'HALOID  '           /                                                \n",
       "TTYPE15 = 'RHALO   '           /                                                \n",
       "TTYPE16 = 'M200    '           /                                                \n",
       "TTYPE17 = 'NGALS   '           /                                                \n",
       "TTYPE18 = 'R200    '           /                                                \n",
       "TTYPE19 = 'CENTRAL '           /                                                \n",
       "TTYPE20 = 'TRA     '           /                                                \n",
       "TTYPE21 = 'TDEC    '           /                                                \n",
       "TTYPE22 = 'EPSILON '           /                                                \n",
       "TTYPE23 = 'GAMMA1  '           /                                                \n",
       "TTYPE24 = 'GAMMA2  '           /                                                \n",
       "TTYPE25 = 'KAPPA   '           /                                                \n",
       "TTYPE26 = 'MU      '           /                                                \n",
       "TTYPE27 = 'LMAG    '           /                                                \n",
       "TTYPE28 = 'MAG_U   '           /                                                \n",
       "TTYPE29 = 'SIZE    '           /                                                \n",
       "TTYPE30 = 'SIZE_SUBARU'        /                                                \n",
       "TTYPE31 = 'ARBORZ  '           /                                                \n",
       "TTYPE32 = 'ARBORZ_ERR'         /                                                \n",
       "TTYPE33 = 'ANNZ    '           /                                                \n",
       "TTYPE34 = 'ANNZ_ERR'           /                                                \n",
       "TTYPE35 = 'PHOTOZ_GAUSSIAN'    /                                                \n",
       "TTYPE36 = 'PX      '           /                                                \n",
       "TTYPE37 = 'PY      '           /                                                \n",
       "TTYPE38 = 'PZ      '           /                                                \n",
       "TTYPE39 = 'VX      '           /                                                \n",
       "TTYPE40 = 'VY      '           /                                                \n",
       "TTYPE41 = 'VZ      '           /                                                \n",
       "TTYPE42 = 'PSTAR   '           /                                                \n",
       "TTYPE43 = 'PQSO    '           /                                                \n",
       "TTYPE44 = 'N_SERSIC'           /                                                \n",
       "TTYPE45 = 'R50     '           /                                                \n",
       "TTYPE46 = 'TE      '           /                                                \n",
       "TTYPE47 = 'TSIZE   '           /                                                \n",
       "TTYPE48 = 'W       '           /                                                \n",
       "COMMENT                                                                         \n",
       "COMMENT  *** Column formats ***                                                 \n",
       "COMMENT                                                                         \n",
       "TFORM1  = 'K       '           /                                                \n",
       "TFORM2  = 'J       '           /                                                \n",
       "TFORM3  = 'J       '           /                                                \n",
       "TFORM4  = '5E      '           /                                                \n",
       "TFORM5  = '5E      '           /                                                \n",
       "TFORM6  = '5E      '           /                                                \n",
       "TFORM7  = '5E      '           /                                                \n",
       "TFORM8  = '5E      '           /                                                \n",
       "TFORM9  = '5E      '           /                                                \n",
       "TFORM10 = '5E      '           /                                                \n",
       "TFORM11 = 'E       '           /                                                \n",
       "TFORM12 = 'E       '           /                                                \n",
       "TFORM13 = 'E       '           /                                                \n",
       "TFORM14 = 'J       '           /                                                \n",
       "TFORM15 = 'E       '           /                                                \n",
       "TFORM16 = 'E       '           /                                                \n",
       "TFORM17 = 'J       '           /                                                \n",
       "TFORM18 = 'E       '           /                                                \n",
       "TFORM19 = 'I       '           /                                                \n",
       "TFORM20 = 'E       '           /                                                \n",
       "TFORM21 = 'E       '           /                                                \n",
       "TFORM22 = '2E      '           /                                                \n",
       "TFORM23 = 'E       '           /                                                \n",
       "TFORM24 = 'E       '           /                                                \n",
       "TFORM25 = 'E       '           /                                                \n",
       "TFORM26 = 'E       '           /                                                \n",
       "TFORM27 = '5E      '           /                                                \n",
       "TFORM28 = 'E       '           /                                                \n",
       "TFORM29 = 'E       '           /                                                \n",
       "TFORM30 = 'E       '           /                                                \n",
       "TFORM31 = 'E       '           /                                                \n",
       "TFORM32 = 'E       '           /                                                \n",
       "TFORM33 = 'E       '           /                                                \n",
       "TFORM34 = 'E       '           /                                                \n",
       "TFORM35 = 'E       '           /                                                \n",
       "TFORM36 = 'E       '           /                                                \n",
       "TFORM37 = 'E       '           /                                                \n",
       "TFORM38 = 'E       '           /                                                \n",
       "TFORM39 = 'E       '           /                                                \n",
       "TFORM40 = 'E       '           /                                                \n",
       "TFORM41 = 'E       '           /                                                \n",
       "TFORM42 = 'E       '           /                                                \n",
       "TFORM43 = 'E       '           /                                                \n",
       "TFORM44 = 'E       '           /                                                \n",
       "TFORM45 = 'E       '           /                                                \n",
       "TFORM46 = '2E      '           /                                                \n",
       "TFORM47 = 'E       '           /                                                \n",
       "TFORM48 = 'E       '           /                                                "
      ]
     },
     "execution_count": 23,
     "metadata": {},
     "output_type": "execute_result"
    }
   ],
   "source": [
    "tru_hdulist[1].header"
   ]
  },
  {
   "cell_type": "code",
   "execution_count": 26,
   "metadata": {
    "collapsed": true
   },
   "outputs": [],
   "source": [
    "tru_data = tru_hdulist[1].data"
   ]
  },
  {
   "cell_type": "code",
   "execution_count": 27,
   "metadata": {
    "collapsed": false
   },
   "outputs": [
    {
     "data": {
      "text/plain": [
       "ColDefs(\n",
       "    name = 'ID'; format = 'K'\n",
       "    name = 'INDEX'; format = 'J'\n",
       "    name = 'ECATID'; format = 'J'\n",
       "    name = 'COEFFS'; format = '5E'\n",
       "    name = 'TMAG'; format = '5E'\n",
       "    name = 'OMAG'; format = '5E'\n",
       "    name = 'FLUX'; format = '5E'\n",
       "    name = 'IVAR'; format = '5E'\n",
       "    name = 'OMAGERR'; format = '5E'\n",
       "    name = 'AMAG'; format = '5E'\n",
       "    name = 'RA'; format = 'E'\n",
       "    name = 'DEC'; format = 'E'\n",
       "    name = 'Z'; format = 'E'\n",
       "    name = 'HALOID'; format = 'J'\n",
       "    name = 'RHALO'; format = 'E'\n",
       "    name = 'M200'; format = 'E'\n",
       "    name = 'NGALS'; format = 'J'\n",
       "    name = 'R200'; format = 'E'\n",
       "    name = 'CENTRAL'; format = 'I'\n",
       "    name = 'TRA'; format = 'E'\n",
       "    name = 'TDEC'; format = 'E'\n",
       "    name = 'EPSILON'; format = '2E'\n",
       "    name = 'GAMMA1'; format = 'E'\n",
       "    name = 'GAMMA2'; format = 'E'\n",
       "    name = 'KAPPA'; format = 'E'\n",
       "    name = 'MU'; format = 'E'\n",
       "    name = 'LMAG'; format = '5E'\n",
       "    name = 'MAG_U'; format = 'E'\n",
       "    name = 'SIZE'; format = 'E'\n",
       "    name = 'SIZE_SUBARU'; format = 'E'\n",
       "    name = 'ARBORZ'; format = 'E'\n",
       "    name = 'ARBORZ_ERR'; format = 'E'\n",
       "    name = 'ANNZ'; format = 'E'\n",
       "    name = 'ANNZ_ERR'; format = 'E'\n",
       "    name = 'PHOTOZ_GAUSSIAN'; format = 'E'\n",
       "    name = 'PX'; format = 'E'\n",
       "    name = 'PY'; format = 'E'\n",
       "    name = 'PZ'; format = 'E'\n",
       "    name = 'VX'; format = 'E'\n",
       "    name = 'VY'; format = 'E'\n",
       "    name = 'VZ'; format = 'E'\n",
       "    name = 'PSTAR'; format = 'E'\n",
       "    name = 'PQSO'; format = 'E'\n",
       "    name = 'N_SERSIC'; format = 'E'\n",
       "    name = 'R50'; format = 'E'\n",
       "    name = 'TE'; format = '2E'\n",
       "    name = 'TSIZE'; format = 'E'\n",
       "    name = 'W'; format = 'E'\n",
       ")"
      ]
     },
     "execution_count": 27,
     "metadata": {},
     "output_type": "execute_result"
    }
   ],
   "source": [
    "tru_cols"
   ]
  },
  {
   "cell_type": "code",
   "execution_count": 28,
   "metadata": {
    "collapsed": true
   },
   "outputs": [],
   "source": [
    "obs_hdulist = pyfits.open('Buzzard_v1.1.147.fit')"
   ]
  },
  {
   "cell_type": "code",
   "execution_count": 29,
   "metadata": {
    "collapsed": false
   },
   "outputs": [
    {
     "name": "stdout",
     "output_type": "stream",
     "text": [
      "Filename: Buzzard_v1.1.147.fit\n",
      "No.    Name         Type      Cards   Dimensions   Format\n",
      "0    PRIMARY     PrimaryHDU       4   ()              \n",
      "1                BinTableHDU     87   5022692R x 35C   [K, J, E, E, E, E, E, E, E, E, E, E, E, E, E, E, E, E, E, E, E, E, E, E, E, E, E, E, E, E, E, E, E, E, E]   \n"
     ]
    }
   ],
   "source": [
    "obs_hdulist.info()"
   ]
  },
  {
   "cell_type": "code",
   "execution_count": 30,
   "metadata": {
    "collapsed": false
   },
   "outputs": [
    {
     "data": {
      "text/plain": [
       "XTENSION= 'BINTABLE'           /Binary table written by MWRFITS v1.11           \n",
       "BITPIX  =                    8 /Required value                                  \n",
       "NAXIS   =                    2 /Required value                                  \n",
       "NAXIS1  =                  144 /Number of bytes per row                         \n",
       "NAXIS2  =              5022692 /Number of rows                                  \n",
       "PCOUNT  =                    0 /Normally 0 (no varying arrays)                  \n",
       "GCOUNT  =                    1 /Required value                                  \n",
       "TFIELDS =                   35 /Number of columns in table                      \n",
       "COMMENT                                                                         \n",
       "COMMENT  *** End of mandatory fields ***                                        \n",
       "COMMENT                                                                         \n",
       "COMMENT                                                                         \n",
       "COMMENT  *** Column names ***                                                   \n",
       "COMMENT                                                                         \n",
       "TTYPE1  = 'ID      '           /                                                \n",
       "TTYPE2  = 'INDEX   '           /                                                \n",
       "TTYPE3  = 'MAG_U   '           /                                                \n",
       "TTYPE4  = 'MAG_G   '           /                                                \n",
       "TTYPE5  = 'MAG_R   '           /                                                \n",
       "TTYPE6  = 'MAG_I   '           /                                                \n",
       "TTYPE7  = 'MAG_Z   '           /                                                \n",
       "TTYPE8  = 'MAG_Y   '           /                                                \n",
       "TTYPE9  = 'MAGERR_G'           /                                                \n",
       "TTYPE10 = 'MAGERR_R'           /                                                \n",
       "TTYPE11 = 'MAGERR_I'           /                                                \n",
       "TTYPE12 = 'MAGERR_Z'           /                                                \n",
       "TTYPE13 = 'MAGERR_Y'           /                                                \n",
       "TTYPE14 = 'FLUX_G  '           /                                                \n",
       "TTYPE15 = 'FLUX_R  '           /                                                \n",
       "TTYPE16 = 'FLUX_I  '           /                                                \n",
       "TTYPE17 = 'FLUX_Z  '           /                                                \n",
       "TTYPE18 = 'FLUX_Y  '           /                                                \n",
       "TTYPE19 = 'IVAR_G  '           /                                                \n",
       "TTYPE20 = 'IVAR_R  '           /                                                \n",
       "TTYPE21 = 'IVAR_I  '           /                                                \n",
       "TTYPE22 = 'IVAR_Z  '           /                                                \n",
       "TTYPE23 = 'IVAR_Y  '           /                                                \n",
       "TTYPE24 = 'RA      '           /                                                \n",
       "TTYPE25 = 'DEC     '           /                                                \n",
       "TTYPE26 = 'EPSILON1'           /                                                \n",
       "TTYPE27 = 'EPSILON2'           /                                                \n",
       "TTYPE28 = 'SIZE    '           /                                                \n",
       "TTYPE29 = 'PSTAR   '           /                                                \n",
       "TTYPE30 = 'PQSO    '           /                                                \n",
       "TTYPE31 = 'ARBORZ  '           /                                                \n",
       "TTYPE32 = 'ARBORZ_ERR'         /                                                \n",
       "TTYPE33 = 'ANNZ    '           /                                                \n",
       "TTYPE34 = 'ANNZ_ERR'           /                                                \n",
       "TTYPE35 = 'PHOTOZ_GAUSSIAN'    /                                                \n",
       "COMMENT                                                                         \n",
       "COMMENT  *** Column formats ***                                                 \n",
       "COMMENT                                                                         \n",
       "TFORM1  = 'K       '           /                                                \n",
       "TFORM2  = 'J       '           /                                                \n",
       "TFORM3  = 'E       '           /                                                \n",
       "TFORM4  = 'E       '           /                                                \n",
       "TFORM5  = 'E       '           /                                                \n",
       "TFORM6  = 'E       '           /                                                \n",
       "TFORM7  = 'E       '           /                                                \n",
       "TFORM8  = 'E       '           /                                                \n",
       "TFORM9  = 'E       '           /                                                \n",
       "TFORM10 = 'E       '           /                                                \n",
       "TFORM11 = 'E       '           /                                                \n",
       "TFORM12 = 'E       '           /                                                \n",
       "TFORM13 = 'E       '           /                                                \n",
       "TFORM14 = 'E       '           /                                                \n",
       "TFORM15 = 'E       '           /                                                \n",
       "TFORM16 = 'E       '           /                                                \n",
       "TFORM17 = 'E       '           /                                                \n",
       "TFORM18 = 'E       '           /                                                \n",
       "TFORM19 = 'E       '           /                                                \n",
       "TFORM20 = 'E       '           /                                                \n",
       "TFORM21 = 'E       '           /                                                \n",
       "TFORM22 = 'E       '           /                                                \n",
       "TFORM23 = 'E       '           /                                                \n",
       "TFORM24 = 'E       '           /                                                \n",
       "TFORM25 = 'E       '           /                                                \n",
       "TFORM26 = 'E       '           /                                                \n",
       "TFORM27 = 'E       '           /                                                \n",
       "TFORM28 = 'E       '           /                                                \n",
       "TFORM29 = 'E       '           /                                                \n",
       "TFORM30 = 'E       '           /                                                \n",
       "TFORM31 = 'E       '           /                                                \n",
       "TFORM32 = 'E       '           /                                                \n",
       "TFORM33 = 'E       '           /                                                \n",
       "TFORM34 = 'E       '           /                                                \n",
       "TFORM35 = 'E       '           /                                                "
      ]
     },
     "execution_count": 30,
     "metadata": {},
     "output_type": "execute_result"
    }
   ],
   "source": [
    "obs_hdulist[1].header"
   ]
  },
  {
   "cell_type": "code",
   "execution_count": 31,
   "metadata": {
    "collapsed": true
   },
   "outputs": [],
   "source": [
    "obs_data = hdulist[1].data"
   ]
  },
  {
   "cell_type": "code",
   "execution_count": 42,
   "metadata": {
    "collapsed": false
   },
   "outputs": [
    {
     "name": "stdout",
     "output_type": "stream",
     "text": [
      "[ 0.20040531  0.17424706  0.19135329  0.04817338  0.11722817  0.16997053\n",
      "  0.01596476  0.12242857  0.07001662  0.12594463  0.10058986  0.15153506\n",
      "  0.15089917 -0.01448094  0.07819025  0.19339602  0.01279342  0.06470924\n",
      "  0.19571778  0.15605633  0.09771299  0.14777657  0.04240934  0.15940323\n",
      "  0.13170758  0.01252273  0.15632254  0.08886777  0.24016573  0.11382212\n",
      "  0.06866187  0.08184443  0.07759178  0.08845558  0.07609442  0.08231536\n",
      "  0.06347945  0.04841309  0.07242226  0.0932597   0.16160072  0.0375611\n",
      "  0.0879536   0.12019446  0.12653403  0.07297637  0.17693441  0.12905337\n",
      "  0.07086489  0.11078633  0.13166381  0.09513422  0.09640434  0.13629737\n",
      "  0.14631319  0.13175561  0.10186042  0.037319    0.11001825  0.18129283\n",
      "  0.12140925  0.11755336 -0.00176905  0.09284056  0.09236023  0.01032907\n",
      "  0.13290706  0.10499009  0.09228314  0.12347526  0.1256367   0.11920968\n",
      "  0.10477524  0.16269547  0.16621858  0.17071028  0.16833748  0.12771255\n",
      "  0.12063693  0.01345479  0.03952005  0.03859562  0.10894131  0.04777413\n",
      "  0.16608155  0.11382003 -0.0573469   0.11075881  0.08990034  0.06143083\n",
      "  0.08667834  0.09943854  0.13174474  0.04600344  0.00034349  0.00590993\n",
      "  0.07853894  0.0935785   0.07705402  0.05880812]\n",
      "[ 0.  0.  0.  0.  0.  0.  0.  0.  0.  0.  0.  0.  0.  0.  0.  0.  0.  0.\n",
      "  0.  0.  0.  0.  0.  0.  0.  0.  0.  0.  0.  0.  0.  0.  0.  0.  0.  0.\n",
      "  0.  0.  0.  0.  0.  0.  0.  0.  0.  0.  0.  0.  0.  0.  0.  0.  0.  0.\n",
      "  0.  0.  0.  0.  0.  0.  0.  0.  0.  0.  0.  0.  0.  0.  0.  0.  0.  0.\n",
      "  0.  0.  0.  0.  0.  0.  0.  0.  0.  0.  0.  0.  0.  0.  0.  0.  0.  0.\n",
      "  0.  0.  0.  0.  0.  0.  0.  0.  0.  0.]\n"
     ]
    }
   ],
   "source": [
    "print(obs_data['PHOTOZ_GAUSSIAN'][:100])"
   ]
  },
  {
   "cell_type": "code",
   "execution_count": 70,
   "metadata": {
    "collapsed": false
   },
   "outputs": [
    {
     "data": {
      "text/plain": [
       "[<matplotlib.lines.Line2D at 0x1b54d85d0>]"
      ]
     },
     "execution_count": 70,
     "metadata": {},
     "output_type": "execute_result"
    },
    {
     "data": {
      "image/png": "[encoded data removed]",
      "text/plain": [
       "<matplotlib.figure.Figure at 0x1afabe9d0>"
      ]
     },
     "metadata": {},
     "output_type": "display_data"
    }
   ],
   "source": [
    "X = tru_data['MAG_U']#[:, np.newaxis]\n",
    "#X.reshape(-1,1)\n",
    "#print(np.shape(X))\n",
    "kde_test = kde.KernelDensity(kernel='gaussian', bandwidth=1.).fit(X.reshape(-1,1))\n",
    "X_plot = np.linspace(np.min(X), np.max(X), 1000)[:, np.newaxis]\n",
    "res = kde_test.score_samples(X_plot)\n",
    "# print(np.shape(X_plot),np.shape(res))\n",
    "\n",
    "plt.hist(X)"
   ]
  },
  {
   "cell_type": "code",
   "execution_count": 71,
   "metadata": {
    "collapsed": false
   },
   "outputs": [
    {
     "data": {
      "text/plain": [
       "[<matplotlib.lines.Line2D at 0x1aa73cfd0>]"
      ]
     },
     "execution_count": 71,
     "metadata": {},
     "output_type": "execute_result"
    },
    {
     "data": {
      "image/png": "[encoded data removed]",
      "text/plain": [
       "<matplotlib.figure.Figure at 0x103af7dd0>"
      ]
     },
     "metadata": {},
     "output_type": "display_data"
    }
   ],
   "source": [
    "plt.plot(X_plot[:, 0], res)"
   ]
  },
  {
   "cell_type": "code",
   "execution_count": 67,
   "metadata": {
    "collapsed": false
   },
   "outputs": [
    {
     "data": {
      "text/plain": [
       "<matplotlib.collections.PathCollection at 0x103a30510>"
      ]
     },
     "execution_count": 67,
     "metadata": {},
     "output_type": "execute_result"
    },
    {
     "data": {
      "image/png": "[encoded data removed]",
      "text/plain": [
       "<matplotlib.figure.Figure at 0x1aa73cd90>"
      ]
     },
     "metadata": {},
     "output_type": "display_data"
    }
   ],
   "source": [
    "plt.scatter(tru_data['Z'],obs_data['PHOTOZ_GAUSSIAN'])"
   ]
  },
  {
   "cell_type": "code",
   "execution_count": null,
   "metadata": {
    "collapsed": true
   },
   "outputs": [],
   "source": []
  }
 ],
 "metadata": {
  "kernelspec": {
   "display_name": "Python 2",
   "language": "python",
   "name": "python2"
  },
  "language_info": {
   "codemirror_mode": {
    "name": "ipython",
    "version": 2
   },
   "file_extension": ".py",
   "mimetype": "text/x-python",
   "name": "python",
   "nbconvert_exporter": "python",
   "pygments_lexer": "ipython2",
   "version": "2.7.12"
  }
 },
 "nbformat": 4,
 "nbformat_minor": 0
}
