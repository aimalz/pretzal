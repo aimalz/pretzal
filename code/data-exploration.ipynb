{
 "cells": [
  {
   "cell_type": "code",
   "execution_count": 40,
   "metadata": {
    "collapsed": false,
    "scrolled": true
   },
   "outputs": [
    {
     "name": "stdout",
     "output_type": "stream",
     "text": [
      "Populating the interactive namespace from numpy and matplotlib\n",
      "Populating the interactive namespace from numpy and matplotlib\n"
     ]
    },
    {
     "name": "stderr",
     "output_type": "stream",
     "text": [
      "WARNING: pylab import has clobbered these variables: ['copy']\n",
      "`%matplotlib` prevents importing * from pylab and numpy\n"
     ]
    }
   ],
   "source": [
    "import pyfits\n",
    "import numpy as np\n",
    "import matplotlib.pyplot as plt\n",
    "%matplotlib inline\n",
    "import sklearn as skl\n",
    "import sklearn.neighbors.kde as kde\n",
    "from astropy.io import fits\n",
    "from astropy.cosmology import FlatLambdaCDM\n",
    "import pyfits as pf\n",
    "import numpy as np\n",
    "import pandas as pd\n",
    "pd.set_option('display.max_columns', None)\n",
    "%pylab inline\n",
    "import copy\n",
    "pd.set_option('display.max_columns', None)\n",
    "%pylab inline\n",
    "#import seaborn as sns\n",
    "#sns.set()"
   ]
  },
  {
   "cell_type": "code",
   "execution_count": 20,
   "metadata": {
    "collapsed": false,
    "scrolled": true
   },
   "outputs": [],
   "source": [
    "true_hdulist = pyfits.open('../../Buzzard_v1.1_truth.147.fit')"
   ]
  },
  {
   "cell_type": "code",
   "execution_count": 21,
   "metadata": {
    "collapsed": false,
    "scrolled": true
   },
   "outputs": [
    {
     "data": {
      "text/plain": [
       "XTENSION= 'BINTABLE'           /Binary table written by MWRFITS v1.11           \n",
       "BITPIX  =                    8 /Required value                                  \n",
       "NAXIS   =                    2 /Required value                                  \n",
       "NAXIS1  =                  330 /Number of bytes per row                         \n",
       "NAXIS2  =              5022692 /Number of rows                                  \n",
       "PCOUNT  =                    0 /Normally 0 (no varying arrays)                  \n",
       "GCOUNT  =                    1 /Required value                                  \n",
       "TFIELDS =                   48 /Number of columns in table                      \n",
       "COMMENT                                                                         \n",
       "COMMENT  *** End of mandatory fields ***                                        \n",
       "COMMENT                                                                         \n",
       "COMMENT                                                                         \n",
       "COMMENT  *** Column names ***                                                   \n",
       "COMMENT                                                                         \n",
       "TTYPE1  = 'ID      '           /                                                \n",
       "TTYPE2  = 'INDEX   '           /                                                \n",
       "TTYPE3  = 'ECATID  '           /                                                \n",
       "TTYPE4  = 'COEFFS  '           /                                                \n",
       "TTYPE5  = 'TMAG    '           /                                                \n",
       "TTYPE6  = 'OMAG    '           /                                                \n",
       "TTYPE7  = 'FLUX    '           /                                                \n",
       "TTYPE8  = 'IVAR    '           /                                                \n",
       "TTYPE9  = 'OMAGERR '           /                                                \n",
       "TTYPE10 = 'AMAG    '           /                                                \n",
       "TTYPE11 = 'RA      '           /                                                \n",
       "TTYPE12 = 'DEC     '           /                                                \n",
       "TTYPE13 = 'Z       '           /                                                \n",
       "TTYPE14 = 'HALOID  '           /                                                \n",
       "TTYPE15 = 'RHALO   '           /                                                \n",
       "TTYPE16 = 'M200    '           /                                                \n",
       "TTYPE17 = 'NGALS   '           /                                                \n",
       "TTYPE18 = 'R200    '           /                                                \n",
       "TTYPE19 = 'CENTRAL '           /                                                \n",
       "TTYPE20 = 'TRA     '           /                                                \n",
       "TTYPE21 = 'TDEC    '           /                                                \n",
       "TTYPE22 = 'EPSILON '           /                                                \n",
       "TTYPE23 = 'GAMMA1  '           /                                                \n",
       "TTYPE24 = 'GAMMA2  '           /                                                \n",
       "TTYPE25 = 'KAPPA   '           /                                                \n",
       "TTYPE26 = 'MU      '           /                                                \n",
       "TTYPE27 = 'LMAG    '           /                                                \n",
       "TTYPE28 = 'MAG_U   '           /                                                \n",
       "TTYPE29 = 'SIZE    '           /                                                \n",
       "TTYPE30 = 'SIZE_SUBARU'        /                                                \n",
       "TTYPE31 = 'ARBORZ  '           /                                                \n",
       "TTYPE32 = 'ARBORZ_ERR'         /                                                \n",
       "TTYPE33 = 'ANNZ    '           /                                                \n",
       "TTYPE34 = 'ANNZ_ERR'           /                                                \n",
       "TTYPE35 = 'PHOTOZ_GAUSSIAN'    /                                                \n",
       "TTYPE36 = 'PX      '           /                                                \n",
       "TTYPE37 = 'PY      '           /                                                \n",
       "TTYPE38 = 'PZ      '           /                                                \n",
       "TTYPE39 = 'VX      '           /                                                \n",
       "TTYPE40 = 'VY      '           /                                                \n",
       "TTYPE41 = 'VZ      '           /                                                \n",
       "TTYPE42 = 'PSTAR   '           /                                                \n",
       "TTYPE43 = 'PQSO    '           /                                                \n",
       "TTYPE44 = 'N_SERSIC'           /                                                \n",
       "TTYPE45 = 'R50     '           /                                                \n",
       "TTYPE46 = 'TE      '           /                                                \n",
       "TTYPE47 = 'TSIZE   '           /                                                \n",
       "TTYPE48 = 'W       '           /                                                \n",
       "COMMENT                                                                         \n",
       "COMMENT  *** Column formats ***                                                 \n",
       "COMMENT                                                                         \n",
       "TFORM1  = 'K       '           /                                                \n",
       "TFORM2  = 'J       '           /                                                \n",
       "TFORM3  = 'J       '           /                                                \n",
       "TFORM4  = '5E      '           /                                                \n",
       "TFORM5  = '5E      '           /                                                \n",
       "TFORM6  = '5E      '           /                                                \n",
       "TFORM7  = '5E      '           /                                                \n",
       "TFORM8  = '5E      '           /                                                \n",
       "TFORM9  = '5E      '           /                                                \n",
       "TFORM10 = '5E      '           /                                                \n",
       "TFORM11 = 'E       '           /                                                \n",
       "TFORM12 = 'E       '           /                                                \n",
       "TFORM13 = 'E       '           /                                                \n",
       "TFORM14 = 'J       '           /                                                \n",
       "TFORM15 = 'E       '           /                                                \n",
       "TFORM16 = 'E       '           /                                                \n",
       "TFORM17 = 'J       '           /                                                \n",
       "TFORM18 = 'E       '           /                                                \n",
       "TFORM19 = 'I       '           /                                                \n",
       "TFORM20 = 'E       '           /                                                \n",
       "TFORM21 = 'E       '           /                                                \n",
       "TFORM22 = '2E      '           /                                                \n",
       "TFORM23 = 'E       '           /                                                \n",
       "TFORM24 = 'E       '           /                                                \n",
       "TFORM25 = 'E       '           /                                                \n",
       "TFORM26 = 'E       '           /                                                \n",
       "TFORM27 = '5E      '           /                                                \n",
       "TFORM28 = 'E       '           /                                                \n",
       "TFORM29 = 'E       '           /                                                \n",
       "TFORM30 = 'E       '           /                                                \n",
       "TFORM31 = 'E       '           /                                                \n",
       "TFORM32 = 'E       '           /                                                \n",
       "TFORM33 = 'E       '           /                                                \n",
       "TFORM34 = 'E       '           /                                                \n",
       "TFORM35 = 'E       '           /                                                \n",
       "TFORM36 = 'E       '           /                                                \n",
       "TFORM37 = 'E       '           /                                                \n",
       "TFORM38 = 'E       '           /                                                \n",
       "TFORM39 = 'E       '           /                                                \n",
       "TFORM40 = 'E       '           /                                                \n",
       "TFORM41 = 'E       '           /                                                \n",
       "TFORM42 = 'E       '           /                                                \n",
       "TFORM43 = 'E       '           /                                                \n",
       "TFORM44 = 'E       '           /                                                \n",
       "TFORM45 = 'E       '           /                                                \n",
       "TFORM46 = '2E      '           /                                                \n",
       "TFORM47 = 'E       '           /                                                \n",
       "TFORM48 = 'E       '           /                                                "
      ]
     },
     "execution_count": 21,
     "metadata": {},
     "output_type": "execute_result"
    }
   ],
   "source": [
    "# list of all variables\n",
    "true_hdulist[1].header"
   ]
  },
  {
   "cell_type": "code",
   "execution_count": 22,
   "metadata": {
    "collapsed": false,
    "scrolled": true
   },
   "outputs": [],
   "source": [
    "true_data = tru_hdulist[1].data"
   ]
  },
  {
   "cell_type": "code",
   "execution_count": 23,
   "metadata": {
    "collapsed": false,
    "scrolled": true
   },
   "outputs": [],
   "source": [
    "FILTER = np.where(tru_data['Z']<2.)[0]"
   ]
  },
  {
   "cell_type": "code",
   "execution_count": null,
   "metadata": {
    "collapsed": false,
    "scrolled": true
   },
   "outputs": [],
   "source": [
    "indice"
   ]
  },
  {
   "cell_type": "code",
   "execution_count": null,
   "metadata": {
    "collapsed": true,
    "scrolled": true
   },
   "outputs": [],
   "source": []
  },
  {
   "cell_type": "code",
   "execution_count": 10,
   "metadata": {
    "collapsed": false,
    "scrolled": true
   },
   "outputs": [],
   "source": [
    "#info from the kcorrect.pro documentation:\n",
    "\n",
    "#Outputs:\n",
    "\n",
    "#   mass          - [ngals] model mass derived from the coeffs (current\n",
    "#                   surviving stellar mass)\n",
    "#   intsfh        - [ngals] total integrated star-formation history (number of\n",
    "#                   stars formed total)\n",
    "#   mets          - [ngals] average metallicity of currently surviving stars\n",
    "#   mtol          - [nk, ngals] model mass-to-light in each *final*\n",
    "#                   bandpass (the bandpass you are kcorrecting *to*)\n",
    "#                   in SOLAR UNITS!\n",
    "#   b300          - star-formation within last 300Myrs relative to\n",
    "#                   average star-formation rate\n",
    "#   b1000         - star-formation within last 1Gyrs relative to\n",
    "#                   average star-formation rate\n",
    "\n",
    "\n",
    "\n",
    "\n",
    "#   For v4_0b templates and later, coefficients are in units of: \n",
    "# \n",
    "#     1 solar mass / (D/10pc)^2 \n",
    "#\n",
    "#   That is, sum the coefficients and multiply by (D/10pc)^2 to get\n",
    "#   TOTAL INTEGRATED STAR FORMATION. (In fact, for Omega0=0.3 and\n",
    "#   OmegaL0=0.7, this is what the \"mass\" keyword returns). Note that\n",
    "#   the total integrated star formation DIFFERS from the current\n",
    "#   stellar mass --- which is returned in the mass and mtol variables."
   ]
  },
  {
   "cell_type": "code",
   "execution_count": 24,
   "metadata": {
    "collapsed": false,
    "scrolled": true
   },
   "outputs": [],
   "source": [
    "directory='../'\n",
    "tspecfile=directory+'k_nmf_derived.default.fits'\n",
    "t=fits.open(tspecfile)\n",
    "#read in coefficients for each template\n",
    "tbdata=t[18].data\n",
    "tmass=t[16].data\n",
    "tmremain=t[17].data\n",
    "tmetallicity=t[18].data\n",
    "tmass300=t[19].data\n",
    "tmass1000=t[20].data\n",
    "cosmology=FlatLambdaCDM(H0=70, Om0=0.286)"
   ]
  },
  {
   "cell_type": "code",
   "execution_count": 25,
   "metadata": {
    "collapsed": false,
    "scrolled": true
   },
   "outputs": [],
   "source": [
    "obs_hdulist = pyfits.open('../../Buzzard_v1.1.147.fit')"
   ]
  },
  {
   "cell_type": "code",
   "execution_count": 31,
   "metadata": {
    "collapsed": false,
    "scrolled": true
   },
   "outputs": [
    {
     "data": {
      "text/plain": [
       "XTENSION= 'BINTABLE'           /Binary table written by MWRFITS v1.11           \n",
       "BITPIX  =                    8 /Required value                                  \n",
       "NAXIS   =                    2 /Required value                                  \n",
       "NAXIS1  =                  144 /Number of bytes per row                         \n",
       "NAXIS2  =              5022692 /Number of rows                                  \n",
       "PCOUNT  =                    0 /Normally 0 (no varying arrays)                  \n",
       "GCOUNT  =                    1 /Required value                                  \n",
       "TFIELDS =                   35 /Number of columns in table                      \n",
       "COMMENT                                                                         \n",
       "COMMENT  *** End of mandatory fields ***                                        \n",
       "COMMENT                                                                         \n",
       "COMMENT                                                                         \n",
       "COMMENT  *** Column names ***                                                   \n",
       "COMMENT                                                                         \n",
       "TTYPE1  = 'ID      '           /                                                \n",
       "TTYPE2  = 'INDEX   '           /                                                \n",
       "TTYPE3  = 'MAG_U   '           /                                                \n",
       "TTYPE4  = 'MAG_G   '           /                                                \n",
       "TTYPE5  = 'MAG_R   '           /                                                \n",
       "TTYPE6  = 'MAG_I   '           /                                                \n",
       "TTYPE7  = 'MAG_Z   '           /                                                \n",
       "TTYPE8  = 'MAG_Y   '           /                                                \n",
       "TTYPE9  = 'MAGERR_G'           /                                                \n",
       "TTYPE10 = 'MAGERR_R'           /                                                \n",
       "TTYPE11 = 'MAGERR_I'           /                                                \n",
       "TTYPE12 = 'MAGERR_Z'           /                                                \n",
       "TTYPE13 = 'MAGERR_Y'           /                                                \n",
       "TTYPE14 = 'FLUX_G  '           /                                                \n",
       "TTYPE15 = 'FLUX_R  '           /                                                \n",
       "TTYPE16 = 'FLUX_I  '           /                                                \n",
       "TTYPE17 = 'FLUX_Z  '           /                                                \n",
       "TTYPE18 = 'FLUX_Y  '           /                                                \n",
       "TTYPE19 = 'IVAR_G  '           /                                                \n",
       "TTYPE20 = 'IVAR_R  '           /                                                \n",
       "TTYPE21 = 'IVAR_I  '           /                                                \n",
       "TTYPE22 = 'IVAR_Z  '           /                                                \n",
       "TTYPE23 = 'IVAR_Y  '           /                                                \n",
       "TTYPE24 = 'RA      '           /                                                \n",
       "TTYPE25 = 'DEC     '           /                                                \n",
       "TTYPE26 = 'EPSILON1'           /                                                \n",
       "TTYPE27 = 'EPSILON2'           /                                                \n",
       "TTYPE28 = 'SIZE    '           /                                                \n",
       "TTYPE29 = 'PSTAR   '           /                                                \n",
       "TTYPE30 = 'PQSO    '           /                                                \n",
       "TTYPE31 = 'ARBORZ  '           /                                                \n",
       "TTYPE32 = 'ARBORZ_ERR'         /                                                \n",
       "TTYPE33 = 'ANNZ    '           /                                                \n",
       "TTYPE34 = 'ANNZ_ERR'           /                                                \n",
       "TTYPE35 = 'PHOTOZ_GAUSSIAN'    /                                                \n",
       "COMMENT                                                                         \n",
       "COMMENT  *** Column formats ***                                                 \n",
       "COMMENT                                                                         \n",
       "TFORM1  = 'K       '           /                                                \n",
       "TFORM2  = 'J       '           /                                                \n",
       "TFORM3  = 'E       '           /                                                \n",
       "TFORM4  = 'E       '           /                                                \n",
       "TFORM5  = 'E       '           /                                                \n",
       "TFORM6  = 'E       '           /                                                \n",
       "TFORM7  = 'E       '           /                                                \n",
       "TFORM8  = 'E       '           /                                                \n",
       "TFORM9  = 'E       '           /                                                \n",
       "TFORM10 = 'E       '           /                                                \n",
       "TFORM11 = 'E       '           /                                                \n",
       "TFORM12 = 'E       '           /                                                \n",
       "TFORM13 = 'E       '           /                                                \n",
       "TFORM14 = 'E       '           /                                                \n",
       "TFORM15 = 'E       '           /                                                \n",
       "TFORM16 = 'E       '           /                                                \n",
       "TFORM17 = 'E       '           /                                                \n",
       "TFORM18 = 'E       '           /                                                \n",
       "TFORM19 = 'E       '           /                                                \n",
       "TFORM20 = 'E       '           /                                                \n",
       "TFORM21 = 'E       '           /                                                \n",
       "TFORM22 = 'E       '           /                                                \n",
       "TFORM23 = 'E       '           /                                                \n",
       "TFORM24 = 'E       '           /                                                \n",
       "TFORM25 = 'E       '           /                                                \n",
       "TFORM26 = 'E       '           /                                                \n",
       "TFORM27 = 'E       '           /                                                \n",
       "TFORM28 = 'E       '           /                                                \n",
       "TFORM29 = 'E       '           /                                                \n",
       "TFORM30 = 'E       '           /                                                \n",
       "TFORM31 = 'E       '           /                                                \n",
       "TFORM32 = 'E       '           /                                                \n",
       "TFORM33 = 'E       '           /                                                \n",
       "TFORM34 = 'E       '           /                                                \n",
       "TFORM35 = 'E       '           /                                                "
      ]
     },
     "execution_count": 31,
     "metadata": {},
     "output_type": "execute_result"
    }
   ],
   "source": [
    "obs_hdulist[1].header"
   ]
  },
  {
   "cell_type": "code",
   "execution_count": 32,
   "metadata": {
    "collapsed": false,
    "scrolled": true
   },
   "outputs": [
    {
     "data": {
      "text/plain": [
       "XTENSION= 'BINTABLE'           /Binary table written by MWRFITS v1.11           \n",
       "BITPIX  =                    8 /Required value                                  \n",
       "NAXIS   =                    2 /Required value                                  \n",
       "NAXIS1  =                  330 /Number of bytes per row                         \n",
       "NAXIS2  =              5022692 /Number of rows                                  \n",
       "PCOUNT  =                    0 /Normally 0 (no varying arrays)                  \n",
       "GCOUNT  =                    1 /Required value                                  \n",
       "TFIELDS =                   48 /Number of columns in table                      \n",
       "COMMENT                                                                         \n",
       "COMMENT  *** End of mandatory fields ***                                        \n",
       "COMMENT                                                                         \n",
       "COMMENT                                                                         \n",
       "COMMENT  *** Column names ***                                                   \n",
       "COMMENT                                                                         \n",
       "TTYPE1  = 'ID      '           /                                                \n",
       "TTYPE2  = 'INDEX   '           /                                                \n",
       "TTYPE3  = 'ECATID  '           /                                                \n",
       "TTYPE4  = 'COEFFS  '           /                                                \n",
       "TTYPE5  = 'TMAG    '           /                                                \n",
       "TTYPE6  = 'OMAG    '           /                                                \n",
       "TTYPE7  = 'FLUX    '           /                                                \n",
       "TTYPE8  = 'IVAR    '           /                                                \n",
       "TTYPE9  = 'OMAGERR '           /                                                \n",
       "TTYPE10 = 'AMAG    '           /                                                \n",
       "TTYPE11 = 'RA      '           /                                                \n",
       "TTYPE12 = 'DEC     '           /                                                \n",
       "TTYPE13 = 'Z       '           /                                                \n",
       "TTYPE14 = 'HALOID  '           /                                                \n",
       "TTYPE15 = 'RHALO   '           /                                                \n",
       "TTYPE16 = 'M200    '           /                                                \n",
       "TTYPE17 = 'NGALS   '           /                                                \n",
       "TTYPE18 = 'R200    '           /                                                \n",
       "TTYPE19 = 'CENTRAL '           /                                                \n",
       "TTYPE20 = 'TRA     '           /                                                \n",
       "TTYPE21 = 'TDEC    '           /                                                \n",
       "TTYPE22 = 'EPSILON '           /                                                \n",
       "TTYPE23 = 'GAMMA1  '           /                                                \n",
       "TTYPE24 = 'GAMMA2  '           /                                                \n",
       "TTYPE25 = 'KAPPA   '           /                                                \n",
       "TTYPE26 = 'MU      '           /                                                \n",
       "TTYPE27 = 'LMAG    '           /                                                \n",
       "TTYPE28 = 'MAG_U   '           /                                                \n",
       "TTYPE29 = 'SIZE    '           /                                                \n",
       "TTYPE30 = 'SIZE_SUBARU'        /                                                \n",
       "TTYPE31 = 'ARBORZ  '           /                                                \n",
       "TTYPE32 = 'ARBORZ_ERR'         /                                                \n",
       "TTYPE33 = 'ANNZ    '           /                                                \n",
       "TTYPE34 = 'ANNZ_ERR'           /                                                \n",
       "TTYPE35 = 'PHOTOZ_GAUSSIAN'    /                                                \n",
       "TTYPE36 = 'PX      '           /                                                \n",
       "TTYPE37 = 'PY      '           /                                                \n",
       "TTYPE38 = 'PZ      '           /                                                \n",
       "TTYPE39 = 'VX      '           /                                                \n",
       "TTYPE40 = 'VY      '           /                                                \n",
       "TTYPE41 = 'VZ      '           /                                                \n",
       "TTYPE42 = 'PSTAR   '           /                                                \n",
       "TTYPE43 = 'PQSO    '           /                                                \n",
       "TTYPE44 = 'N_SERSIC'           /                                                \n",
       "TTYPE45 = 'R50     '           /                                                \n",
       "TTYPE46 = 'TE      '           /                                                \n",
       "TTYPE47 = 'TSIZE   '           /                                                \n",
       "TTYPE48 = 'W       '           /                                                \n",
       "COMMENT                                                                         \n",
       "COMMENT  *** Column formats ***                                                 \n",
       "COMMENT                                                                         \n",
       "TFORM1  = 'K       '           /                                                \n",
       "TFORM2  = 'J       '           /                                                \n",
       "TFORM3  = 'J       '           /                                                \n",
       "TFORM4  = '5E      '           /                                                \n",
       "TFORM5  = '5E      '           /                                                \n",
       "TFORM6  = '5E      '           /                                                \n",
       "TFORM7  = '5E      '           /                                                \n",
       "TFORM8  = '5E      '           /                                                \n",
       "TFORM9  = '5E      '           /                                                \n",
       "TFORM10 = '5E      '           /                                                \n",
       "TFORM11 = 'E       '           /                                                \n",
       "TFORM12 = 'E       '           /                                                \n",
       "TFORM13 = 'E       '           /                                                \n",
       "TFORM14 = 'J       '           /                                                \n",
       "TFORM15 = 'E       '           /                                                \n",
       "TFORM16 = 'E       '           /                                                \n",
       "TFORM17 = 'J       '           /                                                \n",
       "TFORM18 = 'E       '           /                                                \n",
       "TFORM19 = 'I       '           /                                                \n",
       "TFORM20 = 'E       '           /                                                \n",
       "TFORM21 = 'E       '           /                                                \n",
       "TFORM22 = '2E      '           /                                                \n",
       "TFORM23 = 'E       '           /                                                \n",
       "TFORM24 = 'E       '           /                                                \n",
       "TFORM25 = 'E       '           /                                                \n",
       "TFORM26 = 'E       '           /                                                \n",
       "TFORM27 = '5E      '           /                                                \n",
       "TFORM28 = 'E       '           /                                                \n",
       "TFORM29 = 'E       '           /                                                \n",
       "TFORM30 = 'E       '           /                                                \n",
       "TFORM31 = 'E       '           /                                                \n",
       "TFORM32 = 'E       '           /                                                \n",
       "TFORM33 = 'E       '           /                                                \n",
       "TFORM34 = 'E       '           /                                                \n",
       "TFORM35 = 'E       '           /                                                \n",
       "TFORM36 = 'E       '           /                                                \n",
       "TFORM37 = 'E       '           /                                                \n",
       "TFORM38 = 'E       '           /                                                \n",
       "TFORM39 = 'E       '           /                                                \n",
       "TFORM40 = 'E       '           /                                                \n",
       "TFORM41 = 'E       '           /                                                \n",
       "TFORM42 = 'E       '           /                                                \n",
       "TFORM43 = 'E       '           /                                                \n",
       "TFORM44 = 'E       '           /                                                \n",
       "TFORM45 = 'E       '           /                                                \n",
       "TFORM46 = '2E      '           /                                                \n",
       "TFORM47 = 'E       '           /                                                \n",
       "TFORM48 = 'E       '           /                                                "
      ]
     },
     "execution_count": 32,
     "metadata": {},
     "output_type": "execute_result"
    }
   ],
   "source": [
    "true_hdulist[1].header"
   ]
  },
  {
   "cell_type": "code",
   "execution_count": 15,
   "metadata": {
    "collapsed": true,
    "scrolled": true
   },
   "outputs": [],
   "source": [
    "#initialize arrays\n",
    "b300=np.zeros(nredshifts)\n",
    "b1000=np.zeros(nredshifts)\n",
    "tmp_mass=np.zeros(nredshifts)\n",
    "mets=np.zeros(nredshifts)\n",
    "mass=np.zeros(nredshifts)\n",
    "intsfh=np.zeros(nredshifts)\n",
    "\n",
    "# do all the calculations, looping over objects\n",
    "for i in np.arange(nredshifts):\n",
    "    b300[i]=np.sum(tmass300*coeffs[:,i])/np.sum(tmass*coeffs[:,i])\n",
    "    b1000[i]=np.sum(tmass1000*coeffs[:,i])/np.sum(tmass*coeffs[:,i])\n",
    "    tmp_mass[i]=np.sum(tmremain*coeffs[:,i])\n",
    "    mets[i]=np.sum(tmremain*tmetallicity*coeffs[:,i])/tmp_mass[i]\n",
    "    dmod=cosmology.distmod(redshift[i])\n",
    "    mass[i]=tmp_mass[i]*10.**(0.4*dmod.value)\n",
    "    intsfh[i]=np.sum(coeffs[:,i])*10.**(0.4*dmod.value)"
   ]
  },
  {
   "cell_type": "code",
   "execution_count": 16,
   "metadata": {
    "collapsed": false,
    "scrolled": true
   },
   "outputs": [
    {
     "data": {
      "text/plain": [
       "<matplotlib.text.Text at 0x10f898590>"
      ]
     },
     "execution_count": 16,
     "metadata": {},
     "output_type": "execute_result"
    },
    {
     "data": {
      "image/png": "[encoded data removed]",
      "text/plain": [
       "<matplotlib.figure.Figure at 0x17ee16a90>"
      ]
     },
     "metadata": {},
     "output_type": "display_data"
    }
   ],
   "source": [
    "#stellar mass vs abs mag, seek schechter function\n",
    "plt.scatter(tru_data['AMAG'][tru_ind][:,1],mass,alpha=0.01)\n",
    "plt.semilogy()\n",
    "plt.ylabel(r'$M_{*}$')\n",
    "plt.xlabel('G Absolute Magnitude')"
   ]
  },
  {
   "cell_type": "code",
   "execution_count": 17,
   "metadata": {
    "collapsed": false,
    "scrolled": true
   },
   "outputs": [
    {
     "data": {
      "text/plain": [
       "<matplotlib.text.Text at 0x17f209fd0>"
      ]
     },
     "execution_count": 17,
     "metadata": {},
     "output_type": "execute_result"
    },
    {
     "data": {
      "image/png": "[encoded data removed]",
      "text/plain": [
       "<matplotlib.figure.Figure at 0x17f133510>"
      ]
     },
     "metadata": {},
     "output_type": "display_data"
    }
   ],
   "source": [
    "#seek schechter function\n",
    "bins = np.arange(8,14,0.1)\n",
    "plt.hist(np.log10(mass),bins=bins)\n",
    "plt.semilogy()\n",
    "plt.xlabel('stellar mass')\n",
    "plt.ylabel('prevalence')"
   ]
  },
  {
   "cell_type": "code",
   "execution_count": 18,
   "metadata": {
    "collapsed": false,
    "scrolled": true
   },
   "outputs": [],
   "source": []
  },
  {
   "cell_type": "code",
   "execution_count": 19,
   "metadata": {
    "collapsed": false,
    "scrolled": true
   },
   "outputs": [
    {
     "name": "stdout",
     "output_type": "stream",
     "text": [
      "Filename: Buzzard_v1.1.147.fit\n",
      "No.    Name         Type      Cards   Dimensions   Format\n",
      "0    PRIMARY     PrimaryHDU       4   ()              \n",
      "1                BinTableHDU     87   5022692R x 35C   [K, J, E, E, E, E, E, E, E, E, E, E, E, E, E, E, E, E, E, E, E, E, E, E, E, E, E, E, E, E, E, E, E, E, E]   \n"
     ]
    }
   ],
   "source": [
    "obs_hdulist.info()"
   ]
  },
  {
   "cell_type": "code",
   "execution_count": 20,
   "metadata": {
    "collapsed": false,
    "scrolled": true
   },
   "outputs": [
    {
     "data": {
      "text/plain": [
       "XTENSION= 'BINTABLE'           /Binary table written by MWRFITS v1.11           \n",
       "BITPIX  =                    8 /Required value                                  \n",
       "NAXIS   =                    2 /Required value                                  \n",
       "NAXIS1  =                  144 /Number of bytes per row                         \n",
       "NAXIS2  =              5022692 /Number of rows                                  \n",
       "PCOUNT  =                    0 /Normally 0 (no varying arrays)                  \n",
       "GCOUNT  =                    1 /Required value                                  \n",
       "TFIELDS =                   35 /Number of columns in table                      \n",
       "COMMENT                                                                         \n",
       "COMMENT  *** End of mandatory fields ***                                        \n",
       "COMMENT                                                                         \n",
       "COMMENT                                                                         \n",
       "COMMENT  *** Column names ***                                                   \n",
       "COMMENT                                                                         \n",
       "TTYPE1  = 'ID      '           /                                                \n",
       "TTYPE2  = 'INDEX   '           /                                                \n",
       "TTYPE3  = 'MAG_U   '           /                                                \n",
       "TTYPE4  = 'MAG_G   '           /                                                \n",
       "TTYPE5  = 'MAG_R   '           /                                                \n",
       "TTYPE6  = 'MAG_I   '           /                                                \n",
       "TTYPE7  = 'MAG_Z   '           /                                                \n",
       "TTYPE8  = 'MAG_Y   '           /                                                \n",
       "TTYPE9  = 'MAGERR_G'           /                                                \n",
       "TTYPE10 = 'MAGERR_R'           /                                                \n",
       "TTYPE11 = 'MAGERR_I'           /                                                \n",
       "TTYPE12 = 'MAGERR_Z'           /                                                \n",
       "TTYPE13 = 'MAGERR_Y'           /                                                \n",
       "TTYPE14 = 'FLUX_G  '           /                                                \n",
       "TTYPE15 = 'FLUX_R  '           /                                                \n",
       "TTYPE16 = 'FLUX_I  '           /                                                \n",
       "TTYPE17 = 'FLUX_Z  '           /                                                \n",
       "TTYPE18 = 'FLUX_Y  '           /                                                \n",
       "TTYPE19 = 'IVAR_G  '           /                                                \n",
       "TTYPE20 = 'IVAR_R  '           /                                                \n",
       "TTYPE21 = 'IVAR_I  '           /                                                \n",
       "TTYPE22 = 'IVAR_Z  '           /                                                \n",
       "TTYPE23 = 'IVAR_Y  '           /                                                \n",
       "TTYPE24 = 'RA      '           /                                                \n",
       "TTYPE25 = 'DEC     '           /                                                \n",
       "TTYPE26 = 'EPSILON1'           /                                                \n",
       "TTYPE27 = 'EPSILON2'           /                                                \n",
       "TTYPE28 = 'SIZE    '           /                                                \n",
       "TTYPE29 = 'PSTAR   '           /                                                \n",
       "TTYPE30 = 'PQSO    '           /                                                \n",
       "TTYPE31 = 'ARBORZ  '           /                                                \n",
       "TTYPE32 = 'ARBORZ_ERR'         /                                                \n",
       "TTYPE33 = 'ANNZ    '           /                                                \n",
       "TTYPE34 = 'ANNZ_ERR'           /                                                \n",
       "TTYPE35 = 'PHOTOZ_GAUSSIAN'    /                                                \n",
       "COMMENT                                                                         \n",
       "COMMENT  *** Column formats ***                                                 \n",
       "COMMENT                                                                         \n",
       "TFORM1  = 'K       '           /                                                \n",
       "TFORM2  = 'J       '           /                                                \n",
       "TFORM3  = 'E       '           /                                                \n",
       "TFORM4  = 'E       '           /                                                \n",
       "TFORM5  = 'E       '           /                                                \n",
       "TFORM6  = 'E       '           /                                                \n",
       "TFORM7  = 'E       '           /                                                \n",
       "TFORM8  = 'E       '           /                                                \n",
       "TFORM9  = 'E       '           /                                                \n",
       "TFORM10 = 'E       '           /                                                \n",
       "TFORM11 = 'E       '           /                                                \n",
       "TFORM12 = 'E       '           /                                                \n",
       "TFORM13 = 'E       '           /                                                \n",
       "TFORM14 = 'E       '           /                                                \n",
       "TFORM15 = 'E       '           /                                                \n",
       "TFORM16 = 'E       '           /                                                \n",
       "TFORM17 = 'E       '           /                                                \n",
       "TFORM18 = 'E       '           /                                                \n",
       "TFORM19 = 'E       '           /                                                \n",
       "TFORM20 = 'E       '           /                                                \n",
       "TFORM21 = 'E       '           /                                                \n",
       "TFORM22 = 'E       '           /                                                \n",
       "TFORM23 = 'E       '           /                                                \n",
       "TFORM24 = 'E       '           /                                                \n",
       "TFORM25 = 'E       '           /                                                \n",
       "TFORM26 = 'E       '           /                                                \n",
       "TFORM27 = 'E       '           /                                                \n",
       "TFORM28 = 'E       '           /                                                \n",
       "TFORM29 = 'E       '           /                                                \n",
       "TFORM30 = 'E       '           /                                                \n",
       "TFORM31 = 'E       '           /                                                \n",
       "TFORM32 = 'E       '           /                                                \n",
       "TFORM33 = 'E       '           /                                                \n",
       "TFORM34 = 'E       '           /                                                \n",
       "TFORM35 = 'E       '           /                                                "
      ]
     },
     "execution_count": 20,
     "metadata": {},
     "output_type": "execute_result"
    }
   ],
   "source": [
    "obs_hdulist[1].header"
   ]
  },
  {
   "cell_type": "code",
   "execution_count": null,
   "metadata": {
    "collapsed": false,
    "scrolled": true
   },
   "outputs": [],
   "source": [
    "#Downsampling and filtering observaions:\n",
    "N = 100000\n",
    "indinces = np.random.choice(range(0,len(100000)), obs_hdulist[1].data[0])\n",
    "low_indices = np.where(tru_data['Z'] < 2.)\n",
    "tru_ind = np.random.choice(lo_z_ind[0],n_tru)"
   ]
  },
  {
   "cell_type": "code",
   "execution_count": null,
   "metadata": {
    "collapsed": false,
    "scrolled": true
   },
   "outputs": [],
   "source": [
    "    "
   ]
  },
  {
   "cell_type": "code",
   "execution_count": null,
   "metadata": {
    "collapsed": false,
    "scrolled": true
   },
   "outputs": [],
   "source": []
  },
  {
   "cell_type": "code",
   "execution_count": null,
   "metadata": {
    "collapsed": false,
    "scrolled": true
   },
   "outputs": [],
   "source": []
  },
  {
   "cell_type": "code",
   "execution_count": null,
   "metadata": {
    "collapsed": false
   },
   "outputs": [],
   "source": []
  },
  {
   "cell_type": "code",
   "execution_count": null,
   "metadata": {
    "collapsed": true
   },
   "outputs": [],
   "source": []
  }
 ],
 "metadata": {
  "kernelspec": {
   "display_name": "Python 2",
   "language": "python",
   "name": "python2"
  },
  "language_info": {
   "codemirror_mode": {
    "name": "ipython",
    "version": 2
   },
   "file_extension": ".py",
   "mimetype": "text/x-python",
   "name": "python",
   "nbconvert_exporter": "python",
   "pygments_lexer": "ipython2",
   "version": "2.7.11"
  }
 },
 "nbformat": 4,
 "nbformat_minor": 0
}
