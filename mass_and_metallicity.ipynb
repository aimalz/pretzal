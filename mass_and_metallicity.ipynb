{
 "metadata": {
  "name": "",
  "signature": "sha256:28aba43461a4f4d97998d362623301bbb94a0cd1b06bf77bace46a67ba96958a"
 },
 "nbformat": 3,
 "nbformat_minor": 0,
 "worksheets": [
  {
   "cells": [
    {
     "cell_type": "code",
     "collapsed": false,
     "input": [
      "import pyfits\n",
      "import numpy as np\n",
      "import matplotlib.pyplot as plt\n",
      "%matplotlib inline\n",
      "from astropy.io import fits\n",
      "from astropy.cosmology import FlatLambdaCDM"
     ],
     "language": "python",
     "metadata": {},
     "outputs": [],
     "prompt_number": 22
    },
    {
     "cell_type": "code",
     "collapsed": false,
     "input": [
      "#Outputs:\n",
      "\n",
      "#   mass          - [ngals] model mass derived from the coeffs (current\n",
      "#                   surviving stellar mass)\n",
      "#   intsfh        - [ngals] total integrated star-formation history (number of\n",
      "#                   stars formed total)\n",
      "#   mets          - [ngals] average metallicity of currently surviving stars\n",
      "#   mtol          - [nk, ngals] model mass-to-light in each *final*\n",
      "#                   bandpass (the bandpass you are kcorrecting *to*)\n",
      "#                   in SOLAR UNITS!\n",
      "#   b300          - star-formation within last 300Myrs relative to\n",
      "#                   average star-formation rate\n",
      "#   b1000         - star-formation within last 1Gyrs relative to\n",
      "#                   average star-formation rate\n",
      "\n",
      "\n",
      "\n",
      "\n",
      "#   For v4_0b templates and later, coefficients are in units of: \n",
      "# \n",
      "#     1 solar mass / (D/10pc)^2 \n",
      "#\n",
      "#   That is, sum the coefficients and multiply by (D/10pc)^2 to get\n",
      "#   TOTAL INTEGRATED STAR FORMATION. (In fact, for Omega0=0.3 and\n",
      "#   OmegaL0=0.7, this is what the \"mass\" keyword returns). Note that\n",
      "#   the total integrated star formation DIFFERS from the current\n",
      "#   stellar mass --- which is returned in the mass and mtol variables."
     ],
     "language": "python",
     "metadata": {},
     "outputs": [],
     "prompt_number": 23
    },
    {
     "cell_type": "code",
     "collapsed": false,
     "input": [
      "directory='/Users/jnewman/git/pretzal/'\n",
      "tspecfile=directory+'k_nmf_derived.default.fits'\n",
      "t=fits.open(tspecfile)\n",
      "tbdata=t[18].data\n",
      "\n",
      "tmass=t[16].data\n",
      "tmremain=t[17].data\n",
      "tmetallicity=t[18].data\n",
      "tmass300=t[19].data\n",
      "tmass1000=t[20].data\n",
      "\n",
      "cosmology=FlatLambdaCDM(H0=100, Om0=0.3)\n"
     ],
     "language": "python",
     "metadata": {},
     "outputs": [],
     "prompt_number": 24
    },
    {
     "cell_type": "code",
     "collapsed": false,
     "input": [
      "nredshifts=1000\n",
      "redshift=np.ones(nredshifts)\n",
      "\n",
      "#fake array of 5 template coefficients x nredshifts objects\n",
      "coeffs=np.ones((5,nredshifts))\n",
      "\n",
      "b300=np.zeros(nredshifts)\n",
      "b1000=np.zeros(nredshifts)\n",
      "tmp_mass=np.zeros(nredshifts)\n",
      "mets=np.zeros(nredshifts)\n",
      "mass=np.zeros(nredshifts)\n",
      "intsfh=np.zeros(nredshifts)\n"
     ],
     "language": "python",
     "metadata": {},
     "outputs": [],
     "prompt_number": 34
    },
    {
     "cell_type": "code",
     "collapsed": false,
     "input": [
      "# do all the calculations\n",
      "\n",
      "print cosmology.distmod(5)\n",
      "\n",
      "for i in np.arange(nredshifts):\n",
      "    b300[i]=np.sum(tmass300*coeffs[:,i])/np.sum(tmass*coeffs[:,i])\n",
      "    b1000[i]=np.sum(tmass1000*coeffs[:,i])/np.sum(tmass*coeffs[:,i])\n",
      "    tmp_mass[i]=np.sum(tmremain*coeffs[:,i])\n",
      "    mets[i]=np.sum(tmremain*tmetallicity*coeffs[:,i])/tmp_mass[i]\n",
      "    dmod=cosmology.distmod(redshift[i])\n",
      "    mass[i]=tmp_mass[i]*10.**(0.4*dmod.value)\n",
      "    intsfh[i]=np.sum(coeffs[:,i])*10.**(0.4*dmod.value)\n",
      "    "
     ],
     "language": "python",
     "metadata": {},
     "outputs": [
      {
       "output_type": "stream",
       "stream": "stdout",
       "text": [
        "47.5695289793 mag\n"
       ]
      }
     ],
     "prompt_number": 39
    },
    {
     "cell_type": "code",
     "collapsed": false,
     "input": [],
     "language": "python",
     "metadata": {},
     "outputs": [
      {
       "output_type": "stream",
       "stream": "stdout",
       "text": [
        "43.3256304688\n"
       ]
      }
     ],
     "prompt_number": 37
    },
    {
     "cell_type": "code",
     "collapsed": false,
     "input": [],
     "language": "python",
     "metadata": {},
     "outputs": []
    }
   ],
   "metadata": {}
  }
 ]
}