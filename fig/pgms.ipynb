{
 "cells": [
  {
   "cell_type": "code",
   "execution_count": 16,
   "metadata": {
    "collapsed": false
   },
   "outputs": [
    {
     "data": {
      "image/png": "[encoded data removed]",
      "text/plain": [
       "<matplotlib.figure.Figure at 0x1099ba4d0>"
      ]
     },
     "metadata": {},
     "output_type": "display_data"
    }
   ],
   "source": [
    "from matplotlib import rc\n",
    "%matplotlib inline\n",
    "rc(\"font\", family=\"serif\", size=12)\n",
    "rc(\"text\", usetex=True)\n",
    "\n",
    "import daft\n",
    "\n",
    "pgm = daft.PGM([3.6, 2.7], origin=[1.15, 0.65])\n",
    "\n",
    "pgm.add_node(daft.Node(\"dist\", r\"$\\Phi$\", 3, 3))\n",
    "\n",
    "pgm.add_node(daft.Node(\"mass\", r\"$M^{*}_{n}$\", 2, 2))\n",
    "pgm.add_node(daft.Node(\"z\", r\"$z_{n}$\", 4, 2))\n",
    "\n",
    "pgm.add_node(daft.Node(\"data\", r\"$\\vec{d}$\", 3, 1, observed=True))\n",
    "\n",
    "pgm.add_edge(\"dist\", \"mass\")\n",
    "pgm.add_edge(\"dist\", \"z\")\n",
    "pgm.add_edge(\"mass\", \"data\")\n",
    "pgm.add_edge(\"z\", \"data\")\n",
    "\n",
    "pgm.add_plate(daft.Plate([1.5, 0.75, 3., 1.75], label=r\"$n = 1, \\cdots, N$\"))\n",
    "pgm.render()\n",
    "pgm.figure.savefig(\"1pt.pdf\")\n",
    "pgm.figure.savefig(\"1pt.png\", dpi=150)"
   ]
  },
  {
   "cell_type": "code",
   "execution_count": null,
   "metadata": {
    "collapsed": true
   },
   "outputs": [],
   "source": []
  }
 ],
 "metadata": {
  "kernelspec": {
   "display_name": "Python 2",
   "language": "python",
   "name": "python2"
  },
  "language_info": {
   "codemirror_mode": {
    "name": "ipython",
    "version": 2
   },
   "file_extension": ".py",
   "mimetype": "text/x-python",
   "name": "python",
   "nbconvert_exporter": "python",
   "pygments_lexer": "ipython2",
   "version": "2.7.12"
  }
 },
 "nbformat": 4,
 "nbformat_minor": 0
}
